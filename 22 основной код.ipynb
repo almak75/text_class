{
 "cells": [
  {
   "cell_type": "code",
   "execution_count": 65,
   "id": "adf44924",
   "metadata": {},
   "outputs": [],
   "source": [
    "#НОМЕР ЭКСПЕРИМЕНТА, ЧТОБЫ НЕ ПУТАТЬСЯ С ДРУГИМИ ЭКСПЕРИМЕНТАМИ\n",
    "NOMER_EXP = '22'"
   ]
  },
  {
   "cell_type": "code",
   "execution_count": 1,
   "id": "971587f9",
   "metadata": {},
   "outputs": [],
   "source": [
    "#Обучаем 2 сеттки. \n",
    "#делаем балансировку весов. второй класс дополнен сгенерированными 3000 элементами....\n",
    "\n",
    "#КАНДИДАТ нА СДАЧУ РАБОТЫ"
   ]
  },
  {
   "cell_type": "code",
   "execution_count": 2,
   "id": "db52f519",
   "metadata": {},
   "outputs": [],
   "source": [
    "# Работа с массивами данных\n",
    "import numpy as np \n",
    "\n",
    "# Работа с таблицами\n",
    "import pandas as pd\n",
    "\n",
    "# Отрисовка графиков\n",
    "import matplotlib.pyplot as plt\n",
    "\n",
    "# Функции-утилиты для работы с категориальными данными\n",
    "from tensorflow.keras import utils\n",
    "import tensorflow as tf\n",
    "\n",
    "# Класс для конструирования последовательной модели нейронной сети\n",
    "from tensorflow.keras.models import Sequential,load_model\n",
    "\n",
    "# Основные слои\n",
    "from tensorflow.keras.layers import Dense, Dropout, SpatialDropout1D, BatchNormalization, Embedding, Flatten, Activation \n",
    "\n",
    "from tensorflow.keras.callbacks import EarlyStopping,ModelCheckpoint,ReduceLROnPlateau\n",
    "\n",
    "# Токенизатор для преобразование текстов в последовательности\n",
    "from tensorflow.keras.preprocessing.text import Tokenizer\n",
    "\n",
    "# Заполнение последовательностей до определенной длины\n",
    "from tensorflow.keras.preprocessing.sequence import pad_sequences\n",
    "\n",
    "# Матрица ошибок классификатора\n",
    "from sklearn.metrics import confusion_matrix, ConfusionMatrixDisplay\n",
    "\n",
    "# Кодирование тестовых меток\n",
    "from sklearn.preprocessing import LabelEncoder\n",
    "\n",
    "# Разбиение на тренировочную и тестовую выборки\n",
    "from sklearn.model_selection import train_test_split\n",
    "\n",
    "# Загрузка датасетов из облака google\n",
    "import gdown\n",
    "\n",
    "# Отрисовка графиков\n",
    "import matplotlib.pyplot as plt\n",
    "\n",
    "%matplotlib inline\n",
    "import gc\n",
    "import os\n",
    "\n",
    "import pickle #это надо будет для сохранения токенайзеров\n",
    "\n",
    "#from keras import backend as K\n",
    "from sklearn.utils import class_weight"
   ]
  },
  {
   "cell_type": "markdown",
   "id": "ec609640",
   "metadata": {},
   "source": [
    "# несколько общих процедур"
   ]
  },
  {
   "cell_type": "code",
   "execution_count": 62,
   "id": "786c7ecf",
   "metadata": {},
   "outputs": [],
   "source": [
    "TRAIN_TEST_RATIO = 0.2"
   ]
  },
  {
   "cell_type": "code",
   "execution_count": 3,
   "id": "971cc7ba",
   "metadata": {},
   "outputs": [],
   "source": [
    "def seed_all(seed_value=0):\n",
    "    os.environ['PYTHONHASHSEED']=str(seed_value)\n",
    "    np.random.seed(seed_value)\n",
    "    tf.compat.v1.set_random_seed(seed_value)\n",
    "    tf.random.set_seed(seed_value)\n",
    "    tf.compat.v1.set_random_seed(seed_value)\n",
    "    \n",
    "    session_conf = tf.compat.v1.ConfigProto(intra_op_parallelism_threads=1, inter_op_parallelism_threads=1)\n",
    "    sess = tf.compat.v1.Session(graph=tf.compat.v1.get_default_graph(), config=session_conf)\n",
    "    tf.compat.v1.keras.backend.set_session(sess)\n",
    "    "
   ]
  },
  {
   "cell_type": "code",
   "execution_count": 4,
   "id": "c10437a5",
   "metadata": {},
   "outputs": [
    {
     "name": "stdout",
     "output_type": "stream",
     "text": [
      "WARNING:tensorflow:From Y:\\TEMP\\ipykernel_11944\\1944734321.py:10: The name tf.keras.backend.set_session is deprecated. Please use tf.compat.v1.keras.backend.set_session instead.\n",
      "\n"
     ]
    }
   ],
   "source": [
    "seed_all(1)"
   ]
  },
  {
   "cell_type": "code",
   "execution_count": 70,
   "id": "918a55f2",
   "metadata": {},
   "outputs": [],
   "source": [
    "# Функция компиляции и обучения модели нейронной сети\n",
    "def compile_train_model(model, \n",
    "                        x_train,\n",
    "                        y_train,\n",
    "                        x_val,\n",
    "                        y_val,\n",
    "                        optimizer='adam',\n",
    "                        epochs=50,\n",
    "                        batch_size=128,\n",
    "                        figsize=(20, 5),\n",
    "                        class_weight = None,\n",
    "                        title='',\n",
    "                       nomer_modeli=''):\n",
    "\n",
    "    # Компиляция модели\n",
    "    model.compile(optimizer=optimizer, \n",
    "                  loss='categorical_crossentropy', \n",
    "                  metrics=['accuracy'])\n",
    "\n",
    "    # Вывод сводки\n",
    "    model.summary()\n",
    "\n",
    "    \n",
    "    earlyStopping = EarlyStopping(monitor='val_loss', patience=10, verbose=0, mode='min')\n",
    "    mcp_save = ModelCheckpoint(NOMER_EXP+'_'+nomer_modeli+'.mdl_wts.hdf5', save_best_only=True, monitor='val_loss', mode='min')\n",
    "    reduce_lr_loss = ReduceLROnPlateau(monitor='val_loss', factor=0.1, patience=3, verbose=1, min_delta=1e-4, mode='min')\n",
    "\n",
    "    \n",
    "    \n",
    "    # Обучение модели с заданными параметрами\n",
    "    history = model.fit(x_train,\n",
    "                        y_train,\n",
    "                        epochs=epochs,\n",
    "                        callbacks=[earlyStopping, mcp_save,reduce_lr_loss],\n",
    "                        batch_size=batch_size,\n",
    "                        validation_data=(x_val, y_val))\n",
    "\n",
    "    # Вывод графиков точности и ошибки\n",
    "    fig, (ax1, ax2) = plt.subplots(1, 2, figsize=figsize)\n",
    "    fig.suptitle('График процесса обучения модели')\n",
    "    ax1.plot(history.history['accuracy'], \n",
    "               label='Доля верных ответов на обучающем наборе')\n",
    "    ax1.plot(history.history['val_accuracy'], \n",
    "               label='Доля верных ответов на проверочном наборе')\n",
    "    ax1.xaxis.get_major_locator().set_params(integer=True)\n",
    "    ax1.set_xlabel('Эпоха обучения')\n",
    "    ax1.set_ylabel('Доля верных ответов')\n",
    "    ax1.legend()\n",
    "\n",
    "    ax2.plot(history.history['loss'], \n",
    "               label='Ошибка на обучающем наборе')\n",
    "    ax2.plot(history.history['val_loss'], \n",
    "               label='Ошибка на проверочном наборе')\n",
    "    ax2.xaxis.get_major_locator().set_params(integer=True)\n",
    "    ax2.set_xlabel('Эпоха обучения')\n",
    "    ax2.set_ylabel('Ошибка')\n",
    "    ax2.legend()\n",
    "    plt.show()\n",
    "\n",
    "\n",
    "# Функция вывода результатов оценки модели на заданных данных\n",
    "def eval_model(model, x, y_true,\n",
    "               class_labels=[],\n",
    "               cm_round=3,\n",
    "               title='',\n",
    "               figsize=(10, 10),\n",
    "              nomer_modeli=''):\n",
    "    # Вычисление предсказания сети. Берем лучшую их сохраненных\n",
    "    model8 = load_model(NOMER_EXP+'_'+nomer_modeli+'.mdl_wts.hdf5')\n",
    "    \n",
    "    \n",
    "    y_pred = model.predict(x)\n",
    "    # Построение матрицы ошибок\n",
    "    cm = confusion_matrix(np.argmax(y_true, axis=1),\n",
    "                          np.argmax(y_pred, axis=1),\n",
    "                          normalize='true')\n",
    "    # Округление значений матрицы ошибок\n",
    "    cm = np.around(cm, cm_round)\n",
    "\n",
    "    # Отрисовка матрицы ошибок\n",
    "    fig, ax = plt.subplots(figsize=figsize)\n",
    "    ax.set_title(f'Нейросеть {title}: матрица ошибок нормализованная', fontsize=18)\n",
    "    disp = ConfusionMatrixDisplay(confusion_matrix=cm, display_labels=class_labels)\n",
    "    disp.plot(ax=ax)\n",
    "    plt.gca().images[-1].colorbar.remove()  # Стирание ненужной цветовой шкалы\n",
    "    plt.xlabel('Предсказанные классы', fontsize=16)\n",
    "    plt.ylabel('Верные классы', fontsize=16)\n",
    "    fig.autofmt_xdate(rotation=45)          # Наклон меток горизонтальной оси при необходимости\n",
    "    plt.show()    \n",
    "\n",
    "    print('-'*100)\n",
    "    print(f'Нейросеть. Лучшая модель: {title}')\n",
    "\n",
    "    # Для каждого класса:\n",
    "    for cls in range(len(class_labels)):\n",
    "        # Определяется индекс класса с максимальным значением предсказания (уверенности)\n",
    "        cls_pred = np.argmax(cm[cls])\n",
    "        # Формируется сообщение о верности или неверности предсказания\n",
    "        msg = 'ВЕРНО :-)' if cls_pred == cls else 'НЕВЕРНО :-('\n",
    "        # Выводится текстовая информация о предсказанном классе и значении уверенности\n",
    "        print('Класс: {:<20} {:3.2f}% сеть отнесла к классу {:<20} - {}'.format(class_labels[cls],\n",
    "                                                                               100. * cm[cls, cls_pred],\n",
    "                                                                               class_labels[cls_pred],\n",
    "                                                                               msg))\n",
    "\n",
    "    # Средняя точность распознавания определяется как среднее диагональных элементов матрицы ошибок\n",
    "    print('\\nСредняя точность распознавания: {:3.2f}%'.format(100. * cm.diagonal().mean()))\n",
    "\n",
    "\n",
    "# Совместная функция обучения и оценки модели нейронной сети\n",
    "def compile_train_eval_model(model, \n",
    "                             x_train,\n",
    "                             y_train,\n",
    "                             x_test,\n",
    "                             y_test,\n",
    "                             class_labels=[], #CLASS_LIST было\n",
    "                             title='',\n",
    "                             optimizer='adam',\n",
    "                             epochs=50,\n",
    "                             batch_size=128,\n",
    "                             graph_size=(20, 5),\n",
    "                             class_weight = None,\n",
    "                             cm_size=(10, 10),\n",
    "                             nomer_modeli=''):\n",
    "\n",
    "    # Компиляция и обучение модели на заданных параметрах\n",
    "    # В качестве проверочных используются тестовые данные\n",
    "    compile_train_model(model, \n",
    "                        x_train, y_train,\n",
    "                        x_test, y_test,\n",
    "                        optimizer=optimizer,\n",
    "                        epochs=epochs,\n",
    "                        batch_size=batch_size,\n",
    "                        figsize=graph_size,\n",
    "                        class_weight  = class_weight,\n",
    "                        title=title,\n",
    "                       nomer_modeli=nomer_modeli)\n",
    "\n",
    "    # Вывод результатов оценки работы модели на тестовых данных\n",
    "    eval_model(model, x_test, y_test, \n",
    "               class_labels=class_labels, \n",
    "               title=title,\n",
    "               figsize=cm_size,\n",
    "               nomer_modeli=nomer_modeli)"
   ]
  },
  {
   "cell_type": "code",
   "execution_count": 84,
   "id": "7e154072",
   "metadata": {},
   "outputs": [],
   "source": [
    "def get_recomended_VOCAB_SIZE(tokenizer, count):\n",
    "    #получаем обученный токенайзер и минимальное количество слов, которое хотим оставить в словаре\n",
    "    #возвращаем ничего, но печатаем строку с нужным размером словаря\n",
    "\n",
    "    sl = list(tokenizer.word_counts.items())\n",
    "    sl= sorted(sl,reverse=True,  key=lambda x: x[1])\n",
    "    sl2 = [i  for i in sl if i[1]>count]\n",
    "    print(f'Всего словарь: {len(sl)} для миним.повторов слов {count} установи размер словаря {len(sl2)}')"
   ]
  },
  {
   "cell_type": "code",
   "execution_count": 187,
   "id": "0a94afad",
   "metadata": {},
   "outputs": [],
   "source": [
    "# Функция вывода сводки по распределению данных\n",
    "def data_summary(df, class_labels):\n",
    "    for cls in class_labels:\n",
    "        print(f'Количество записей класса {cls}: {df[df.groups == cls].shape[0]}')    "
   ]
  },
  {
   "cell_type": "code",
   "execution_count": 204,
   "id": "616fbf81",
   "metadata": {},
   "outputs": [],
   "source": [
    "def balance(df):\n",
    "    #на входе - датафрейм\n",
    "    #на выходе словарь для балансировки весов \n",
    "    w = dict()\n",
    "    class_labels = df.groups.unique()\n",
    "    \n",
    "    w = {cls:df[df.groups == cls].shape[0] for cls in class_labels }\n",
    "    \n",
    "    m = max(w.values())\n",
    "    w = {k:m/v for k,v in w.items()} #cчитаем веса\n",
    "    keys = list(w.keys())\n",
    "    #print('1',keys)\n",
    "    keys.sort()\n",
    "    #print(keys)\n",
    "    w = {i: w[keys[i]] for i in range(len(class_labels))}\n",
    "    return w "
   ]
  },
  {
   "cell_type": "code",
   "execution_count": null,
   "id": "2d775107",
   "metadata": {},
   "outputs": [],
   "source": [
    "def get_memory_size():\n",
    "    #смотрим, что там зависло в памяти, чтобы очистиь\n",
    "    a = globals()\n",
    "    mem = {i:round(sys.getsizeof(a[str(i)])/1024/1024, 2)  for i in a.keys()}\n",
    "    mem = dict(sorted(mem.items(), key=lambda item: -item[1]))\n",
    "    \n",
    "    size = sum(mem.values())\n",
    "    print('Объём в мегабайтах')\n",
    "    print('ТОП 10', [(list(mem.keys())[i],   mem[list(mem.keys())[i]]) for i in range(10)] )\n",
    "    print('Общий занятый объем: ', round(sum(mem.values()),2))"
   ]
  },
  {
   "cell_type": "markdown",
   "id": "ee85cbae",
   "metadata": {},
   "source": [
    "# Делаем первую сетку. Она будет отделять 10 класс от всего остального  "
   ]
  },
  {
   "cell_type": "code",
   "execution_count": 20,
   "id": "1b591438",
   "metadata": {},
   "outputs": [],
   "source": [
    "# Загрузка данных из файла в таблицу\n",
    "df = pd.read_csv('train_dataset_train.csv')"
   ]
  },
  {
   "cell_type": "code",
   "execution_count": 51,
   "id": "2cb10dd1",
   "metadata": {},
   "outputs": [
    {
     "name": "stdout",
     "output_type": "stream",
     "text": [
      "Пришел размер (310300, 3)\n"
     ]
    }
   ],
   "source": [
    "# Вывод размерности таблицы\n",
    "print('Пришел размер',df.shape)"
   ]
  },
  {
   "cell_type": "code",
   "execution_count": 22,
   "id": "cdca512d",
   "metadata": {},
   "outputs": [
    {
     "data": {
      "text/html": [
       "<div>\n",
       "<style scoped>\n",
       "    .dataframe tbody tr th:only-of-type {\n",
       "        vertical-align: middle;\n",
       "    }\n",
       "\n",
       "    .dataframe tbody tr th {\n",
       "        vertical-align: top;\n",
       "    }\n",
       "\n",
       "    .dataframe thead th {\n",
       "        text-align: right;\n",
       "    }\n",
       "</style>\n",
       "<table border=\"1\" class=\"dataframe\">\n",
       "  <thead>\n",
       "    <tr style=\"text-align: right;\">\n",
       "      <th></th>\n",
       "      <th>id</th>\n",
       "      <th>name</th>\n",
       "      <th>groups</th>\n",
       "    </tr>\n",
       "  </thead>\n",
       "  <tbody>\n",
       "    <tr>\n",
       "      <th>0</th>\n",
       "      <td>1034</td>\n",
       "      <td>ШОК-ЦЕНА Пена д/душа/бритья КУППЕР 200 мл АКС</td>\n",
       "      <td>10</td>\n",
       "    </tr>\n",
       "    <tr>\n",
       "      <th>1</th>\n",
       "      <td>1035</td>\n",
       "      <td>Мин.вода Нагутская №26    0.5л</td>\n",
       "      <td>0</td>\n",
       "    </tr>\n",
       "    <tr>\n",
       "      <th>2</th>\n",
       "      <td>1036</td>\n",
       "      <td>Пельмени Домашние вес ПО Прямицино.</td>\n",
       "      <td>10</td>\n",
       "    </tr>\n",
       "    <tr>\n",
       "      <th>3</th>\n",
       "      <td>1037</td>\n",
       "      <td>ПЕЧЕНЬЕ ОВСЯНО-ГРЕЧНЕВОЕ ЭКО БОТ 4600508719365</td>\n",
       "      <td>10</td>\n",
       "    </tr>\n",
       "    <tr>\n",
       "      <th>4</th>\n",
       "      <td>1038</td>\n",
       "      <td>Спред растительно-жировой Масляничка 62% 170г ...</td>\n",
       "      <td>10</td>\n",
       "    </tr>\n",
       "  </tbody>\n",
       "</table>\n",
       "</div>"
      ],
      "text/plain": [
       "     id                                               name  groups\n",
       "0  1034      ШОК-ЦЕНА Пена д/душа/бритья КУППЕР 200 мл АКС      10\n",
       "1  1035                     Мин.вода Нагутская №26    0.5л       0\n",
       "2  1036                Пельмени Домашние вес ПО Прямицино.      10\n",
       "3  1037     ПЕЧЕНЬЕ ОВСЯНО-ГРЕЧНЕВОЕ ЭКО БОТ 4600508719365      10\n",
       "4  1038  Спред растительно-жировой Масляничка 62% 170г ...      10"
      ]
     },
     "execution_count": 22,
     "metadata": {},
     "output_type": "execute_result"
    }
   ],
   "source": [
    "# Вывод первых строк таблицы\n",
    "df.head()    "
   ]
  },
  {
   "cell_type": "code",
   "execution_count": 23,
   "id": "6ddd9ec0",
   "metadata": {},
   "outputs": [
    {
     "name": "stdout",
     "output_type": "stream",
     "text": [
      "id        0\n",
      "name      0\n",
      "groups    0\n",
      "dtype: int64\n"
     ]
    }
   ],
   "source": [
    "# Проверка, есть ли пропуски в данных\n",
    "print(df.isnull().sum())"
   ]
  },
  {
   "cell_type": "code",
   "execution_count": 24,
   "id": "10a3bd05",
   "metadata": {},
   "outputs": [
    {
     "data": {
      "text/html": [
       "<div>\n",
       "<style scoped>\n",
       "    .dataframe tbody tr th:only-of-type {\n",
       "        vertical-align: middle;\n",
       "    }\n",
       "\n",
       "    .dataframe tbody tr th {\n",
       "        vertical-align: top;\n",
       "    }\n",
       "\n",
       "    .dataframe thead th {\n",
       "        text-align: right;\n",
       "    }\n",
       "</style>\n",
       "<table border=\"1\" class=\"dataframe\">\n",
       "  <thead>\n",
       "    <tr style=\"text-align: right;\">\n",
       "      <th></th>\n",
       "      <th>id</th>\n",
       "      <th>name</th>\n",
       "      <th>groups</th>\n",
       "    </tr>\n",
       "  </thead>\n",
       "  <tbody>\n",
       "  </tbody>\n",
       "</table>\n",
       "</div>"
      ],
      "text/plain": [
       "Empty DataFrame\n",
       "Columns: [id, name, groups]\n",
       "Index: []"
      ]
     },
     "execution_count": 24,
     "metadata": {},
     "output_type": "execute_result"
    }
   ],
   "source": [
    "my_df = df[df.name.isnull()]\n",
    "my_df.head(10)"
   ]
  },
  {
   "cell_type": "code",
   "execution_count": 25,
   "id": "4bf766e2",
   "metadata": {},
   "outputs": [],
   "source": [
    "df.fillna(value='ййй', inplace=True)"
   ]
  },
  {
   "cell_type": "code",
   "execution_count": 26,
   "id": "860261e2",
   "metadata": {},
   "outputs": [
    {
     "name": "stdout",
     "output_type": "stream",
     "text": [
      "[2035 'Пряники \"Шоколадные\" пензенские' 10]\n"
     ]
    }
   ],
   "source": [
    "# Пример данных из таблицы\n",
    "print(df.values[1001])"
   ]
  },
  {
   "cell_type": "code",
   "execution_count": 27,
   "id": "6acbbc35",
   "metadata": {},
   "outputs": [
    {
     "name": "stdout",
     "output_type": "stream",
     "text": [
      "Количество записей класса 10: 502764\n",
      "Количество записей класса 0: 21566\n",
      "Количество записей класса 1: 17136\n",
      "Количество записей класса 4: 27591\n",
      "Количество записей класса 7: 12051\n",
      "Количество записей класса 3: 21045\n",
      "Количество записей класса 9: 42002\n",
      "Количество записей класса 6: 10007\n",
      "Количество записей класса 2: 3902\n"
     ]
    }
   ],
   "source": [
    "# Сводка по распределению данных\n",
    "data_summary(df, df.groups.unique())"
   ]
  },
  {
   "cell_type": "code",
   "execution_count": 28,
   "id": "3dc73778",
   "metadata": {},
   "outputs": [],
   "source": [
    "# Извелечение всех записей-текстов обращений и их меток классов\n",
    "text_data = df.name.tolist()\n",
    "class_data = df.groups.tolist()"
   ]
  },
  {
   "cell_type": "code",
   "execution_count": 29,
   "id": "f9cf36b5",
   "metadata": {},
   "outputs": [
    {
     "data": {
      "text/plain": [
       "['ШОК-ЦЕНА Пена д/душа/бритья КУППЕР 200 мл АКС',\n",
       " 'Мин.вода Нагутская №26    0.5л',\n",
       " 'Пельмени Домашние вес ПО Прямицино.',\n",
       " 'ПЕЧЕНЬЕ ОВСЯНО-ГРЕЧНЕВОЕ ЭКО БОТ 4600508719365',\n",
       " 'Спред растительно-жировой Масляничка 62% 170г С ЗМЖ',\n",
       " '4607040961429 ПЕЛЬМЕНИ ЗОЛОТО ДЭМК',\n",
       " '2: 3347584 МДБ Колб.ДОКТОР.в/с б/о в/у50',\n",
       " 'Щипцы кухон. 23см пласт.+нерж. сталь ручка VETTA',\n",
       " \"ИГР.ВИНО ПРОСЕККО НАЦИОНАЛЬ'19 Б 8032770293018\",\n",
       " 'Лапша удон, Курица с овощами, Соус терияки ']"
      ]
     },
     "execution_count": 29,
     "metadata": {},
     "output_type": "execute_result"
    }
   ],
   "source": [
    "text_data[:10]"
   ]
  },
  {
   "cell_type": "markdown",
   "id": "0d0fe68b",
   "metadata": {},
   "source": [
    "# слегка отфильтруем. По 10 классу оставим только 150 000 примеров"
   ]
  },
  {
   "cell_type": "code",
   "execution_count": 30,
   "id": "3dd17baa",
   "metadata": {},
   "outputs": [
    {
     "name": "stdout",
     "output_type": "stream",
     "text": [
      "Удаляются классы: ['нет данных']\n"
     ]
    }
   ],
   "source": [
    "# Назначение интервала допустимого количества текстов по классу\n",
    "text_count_interval = [0, 155000]\n",
    "\n",
    "# Фильтрация данных - отбрасываются все данные без категории\n",
    "# и все классы объемом менее нижней границы разрешенного интервала\n",
    "class_to_drop = ['нет данных']\n",
    "for cls in df.groups.unique():\n",
    "    if df[df.groups == cls].shape[0] < text_count_interval[0]:\n",
    "        class_to_drop.append(cls)\n",
    "\n",
    "print(f'Удаляются классы: {class_to_drop}')\n",
    "\n",
    "del_mask = df.groups.isin(class_to_drop)\n",
    "df = df[~del_mask]\n",
    "\n",
    "# По всем оставшимся классам количество примеров ограничивается не более\n",
    "# верхней границы разрешенного интервала\n",
    "for cls in df.groups.unique():\n",
    "    df = df.drop(df[df.groups == cls].index[text_count_interval[1]:])"
   ]
  },
  {
   "cell_type": "code",
   "execution_count": 31,
   "id": "aef72a1b",
   "metadata": {},
   "outputs": [
    {
     "name": "stdout",
     "output_type": "stream",
     "text": [
      "Количество записей класса 10: 155000\n",
      "Количество записей класса 0: 21566\n",
      "Количество записей класса 1: 17136\n",
      "Количество записей класса 4: 27591\n",
      "Количество записей класса 7: 12051\n",
      "Количество записей класса 3: 21045\n",
      "Количество записей класса 9: 42002\n",
      "Количество записей класса 6: 10007\n",
      "Количество записей класса 2: 3902\n"
     ]
    }
   ],
   "source": [
    "data_summary(df, df.groups.unique())"
   ]
  },
  {
   "cell_type": "code",
   "execution_count": 52,
   "id": "f012cfa2",
   "metadata": {},
   "outputs": [
    {
     "name": "stdout",
     "output_type": "stream",
     "text": [
      "Остался размер (310300, 3)\n"
     ]
    }
   ],
   "source": [
    "print('Остался размер',df.shape)"
   ]
  },
  {
   "cell_type": "code",
   "execution_count": 33,
   "id": "82359dbf",
   "metadata": {},
   "outputs": [
    {
     "data": {
      "text/html": [
       "<div>\n",
       "<style scoped>\n",
       "    .dataframe tbody tr th:only-of-type {\n",
       "        vertical-align: middle;\n",
       "    }\n",
       "\n",
       "    .dataframe tbody tr th {\n",
       "        vertical-align: top;\n",
       "    }\n",
       "\n",
       "    .dataframe thead th {\n",
       "        text-align: right;\n",
       "    }\n",
       "</style>\n",
       "<table border=\"1\" class=\"dataframe\">\n",
       "  <thead>\n",
       "    <tr style=\"text-align: right;\">\n",
       "      <th></th>\n",
       "      <th>id</th>\n",
       "      <th>name</th>\n",
       "      <th>groups</th>\n",
       "    </tr>\n",
       "  </thead>\n",
       "  <tbody>\n",
       "  </tbody>\n",
       "</table>\n",
       "</div>"
      ],
      "text/plain": [
       "Empty DataFrame\n",
       "Columns: [id, name, groups]\n",
       "Index: []"
      ]
     },
     "execution_count": 33,
     "metadata": {},
     "output_type": "execute_result"
    }
   ],
   "source": [
    "my_df = df[df.name.isnull()]\n",
    "my_df.head(10)"
   ]
  },
  {
   "cell_type": "code",
   "execution_count": 34,
   "id": "df7ddf15",
   "metadata": {},
   "outputs": [],
   "source": [
    "df.fillna(value='ййй', inplace=True)"
   ]
  },
  {
   "cell_type": "code",
   "execution_count": 36,
   "id": "906a21bc",
   "metadata": {},
   "outputs": [],
   "source": [
    "\n",
    "text_data = df.name.tolist()\n",
    "class_data = df.groups.tolist()\n",
    "class_data = [10 if x==10 else 0 for x in class_data ] #все классы, которые не относятся к 10, заменяем на 0. Итого у нас будет только 2 класса"
   ]
  },
  {
   "cell_type": "code",
   "execution_count": 37,
   "id": "4637c1b6",
   "metadata": {},
   "outputs": [
    {
     "data": {
      "text/plain": [
       "[10, 0, 10, 10, 10, 10, 10, 10, 10, 0]"
      ]
     },
     "execution_count": 37,
     "metadata": {},
     "output_type": "execute_result"
    }
   ],
   "source": [
    "class_data[:10]"
   ]
  },
  {
   "cell_type": "code",
   "execution_count": 38,
   "id": "b4b05453",
   "metadata": {},
   "outputs": [
    {
     "data": {
      "text/plain": [
       "310300"
      ]
     },
     "execution_count": 38,
     "metadata": {},
     "output_type": "execute_result"
    }
   ],
   "source": [
    "len(text_data)"
   ]
  },
  {
   "cell_type": "code",
   "execution_count": 55,
   "id": "e4f5eca8",
   "metadata": {},
   "outputs": [],
   "source": [
    "VOCAB_SIZE = 12909 #Сначала надо здесь указать макимально возможный, потом запустть следующие 2 ячейки и забрать оттуда размер словаря. ТАК БУДЕТ МЕНЬШЕ ПАМЯТИ"
   ]
  },
  {
   "cell_type": "code",
   "execution_count": 56,
   "id": "43d1b5c2",
   "metadata": {},
   "outputs": [
    {
     "name": "stdout",
     "output_type": "stream",
     "text": [
      "Размер словаря: 75451\n"
     ]
    }
   ],
   "source": [
    "\n",
    "tokenizer = Tokenizer(num_words=VOCAB_SIZE,filters='0123456789!\"#$%&()*+,-–—./…:;<=>?@[\\\\]^_`{|}~«»\\t\\n\\xa0\\ufeff',  split=' ', oov_token='неизвестное_слово', char_level=False)\n",
    "\n",
    "\n",
    "\n",
    "tokenizer.fit_on_texts(text_data)\n",
    "\n",
    "# Построение словаря в виде пар слово - индекс\n",
    "items = list(tokenizer.word_index.items())\n",
    "print(f'Размер словаря: {len(items)}')\n",
    "del items"
   ]
  },
  {
   "cell_type": "code",
   "execution_count": 85,
   "id": "03037bc2",
   "metadata": {},
   "outputs": [
    {
     "name": "stdout",
     "output_type": "stream",
     "text": [
      "Всего словарь: 34324 для миним.повторов слов 10 установи размер словаря 5356\n"
     ]
    }
   ],
   "source": [
    "get_recomended_VOCAB_SIZE(tokenizer,10)"
   ]
  },
  {
   "cell_type": "code",
   "execution_count": 58,
   "id": "17ea3baf",
   "metadata": {},
   "outputs": [
    {
     "name": "stdout",
     "output_type": "stream",
     "text": [
      "Список классов: [ 0 10]\n",
      "Всего классов: 2\n",
      "Форма выходных данных: (310300,)\n",
      "Пример числовых меток классов: [1 0 1 1 1 1 1 1 1 0]\n"
     ]
    }
   ],
   "source": [
    "# Кодирование меток классов индексами (числами)\n",
    "encoder = LabelEncoder()\n",
    "class_labels = encoder.fit_transform(class_data)\n",
    "\n",
    "CLASS_LIST = encoder.classes_\n",
    "CLASS_COUNT = len(CLASS_LIST)\n",
    "\n",
    "print(f'Список классов: {CLASS_LIST}')\n",
    "print(f'Всего классов: {CLASS_COUNT}')\n",
    "print(f'Форма выходных данных: {class_labels.shape}')\n",
    "print(f'Пример числовых меток классов: {class_labels[:10]}')"
   ]
  },
  {
   "cell_type": "markdown",
   "id": "92080e45",
   "metadata": {},
   "source": [
    "# Создаем выборки для мешка слов"
   ]
  },
  {
   "cell_type": "code",
   "execution_count": 59,
   "id": "e21a80d9",
   "metadata": {},
   "outputs": [
    {
     "data": {
      "text/plain": [
       "0"
      ]
     },
     "execution_count": 59,
     "metadata": {},
     "output_type": "execute_result"
    }
   ],
   "source": [
    "x_train_clip, y_train, x_test_clip, y_test,x_data,x_data_01,y_pred, model_text_bow_dense ='','','','','','','',''\n",
    "x_train_01, y_train, x_test_01, y_test ='','','',''\n",
    "gc.collect()"
   ]
  },
  {
   "cell_type": "code",
   "execution_count": 60,
   "id": "f22bde75",
   "metadata": {},
   "outputs": [
    {
     "name": "stdout",
     "output_type": "stream",
     "text": [
      "для мешка\n",
      "Размер мешка (310300, 12909)\n",
      "Размер правды  (310300, 2)\n",
      "[0. 1.]\n"
     ]
    }
   ],
   "source": [
    "x_train_clip, y_train, x_test_clip, y_test,x_data,x_data_01,y_pred, model_text_bow_dense ='','','','','','','',''\n",
    "x_train_01, y_train, x_test_01, y_test ='','','',''\n",
    "gc.collect()\n",
    "\n",
    "# Преобразование входных текстов в разреженную матрицу из векторов Bag of Words\n",
    "x_data_01 = tokenizer.texts_to_matrix(text_data)\n",
    "# Вывод формы и примера данных\n",
    "print('для мешка')\n",
    "print('Размер мешка', x_data_01.shape) \n",
    "#print(x_data_01[0, :20])\n",
    "\n",
    "# Преобразование меток класса к векторам one hot encoding\n",
    "y_data = utils.to_categorical(class_labels, CLASS_COUNT)\n",
    "# Вывод формы и примера данных\n",
    "print('Размер правды ', y_data.shape)\n",
    "print(y_data[0])\n",
    "\n",
    "#СОХРАНИМ ТОКЕНАЙЗЕР ДЛЯ МОДЕЛИ 1. Сохраняем токенайзер, чтобы им воспользоваться потом на предикте\n",
    "with open('tokenizer_mod_1.pickle', 'wb') as handle:\n",
    "    pickle.dump(tokenizer, handle, protocol=pickle.HIGHEST_PROTOCOL)"
   ]
  },
  {
   "cell_type": "code",
   "execution_count": 63,
   "id": "ece88fc5",
   "metadata": {},
   "outputs": [
    {
     "name": "stdout",
     "output_type": "stream",
     "text": [
      "(248240, 12909) (62060, 12909)\n",
      "(248240, 2) (62060, 2)\n"
     ]
    }
   ],
   "source": [
    "# Получение индексов разделения основного набора на обучающую и тестовую выборки\n",
    "idx_train, idx_test = train_test_split(list(range(len(x_data_01))),\n",
    "                                      stratify=y_data,\n",
    "                                      test_size=TRAIN_TEST_RATIO,\n",
    "                                      random_state = 11) #для повторяемости результата\n",
    "\n",
    "# Разделение в соответствии с полученными индексами. Жрет память, не понял почему, присваивание нос-в-нос не жрет.\n",
    "#x_train, x_test = x_data[idx_train], x_data[idx_test]\n",
    "# x_train_01, x_test_01 = x_data_01[idx_train], x_data_01[idx_test]\n",
    "# y_train, y_test = y_data[idx_train], y_data[idx_test]\n",
    "\n",
    "\n",
    "\n",
    "x_train_01 =x_data_01[idx_train]\n",
    "x_test_01 = x_data_01[idx_test]\n",
    "y_train = y_data[idx_train]\n",
    "y_test =  y_data[idx_test]\n",
    "\n",
    "\n",
    "\n",
    "del x_data_01\n",
    "del y_data\n",
    "gc.collect()\n",
    "# Проверка результата\n",
    "\n",
    "print(x_train_01.shape, x_test_01.shape)\n",
    "print(y_train.shape, y_test.shape)"
   ]
  },
  {
   "cell_type": "markdown",
   "id": "e7dd61d0",
   "metadata": {},
   "source": [
    "# BagOfWords + Dense. Первая СЕТКА"
   ]
  },
  {
   "cell_type": "code",
   "execution_count": 71,
   "id": "70ae08c0",
   "metadata": {},
   "outputs": [
    {
     "name": "stdout",
     "output_type": "stream",
     "text": [
      "Model: \"sequential_4\"\n",
      "_________________________________________________________________\n",
      "Layer (type)                 Output Shape              Param #   \n",
      "=================================================================\n",
      "dense_12 (Dense)             (None, 150)               1936500   \n",
      "_________________________________________________________________\n",
      "batch_normalization_4 (Batch (None, 150)               600       \n",
      "_________________________________________________________________\n",
      "dense_13 (Dense)             (None, 200)               30200     \n",
      "_________________________________________________________________\n",
      "dropout_4 (Dropout)          (None, 200)               0         \n",
      "_________________________________________________________________\n",
      "dense_14 (Dense)             (None, 2)                 402       \n",
      "=================================================================\n",
      "Total params: 1,967,702\n",
      "Trainable params: 1,967,402\n",
      "Non-trainable params: 300\n",
      "_________________________________________________________________\n",
      "Epoch 1/50\n",
      "970/970 [==============================] - 11s 11ms/step - loss: 0.1521 - accuracy: 0.9430 - val_loss: 0.0657 - val_accuracy: 0.9786\n",
      "Epoch 2/50\n",
      "970/970 [==============================] - 9s 9ms/step - loss: 0.0597 - accuracy: 0.9811 - val_loss: 0.0479 - val_accuracy: 0.9845\n",
      "Epoch 3/50\n",
      "970/970 [==============================] - 9s 9ms/step - loss: 0.0449 - accuracy: 0.9862 - val_loss: 0.0404 - val_accuracy: 0.9871\n",
      "Epoch 4/50\n",
      "970/970 [==============================] - 9s 9ms/step - loss: 0.0370 - accuracy: 0.9888 - val_loss: 0.0361 - val_accuracy: 0.9889\n",
      "Epoch 5/50\n",
      "970/970 [==============================] - 9s 9ms/step - loss: 0.0319 - accuracy: 0.9905 - val_loss: 0.0334 - val_accuracy: 0.9901\n",
      "Epoch 6/50\n",
      "970/970 [==============================] - 9s 9ms/step - loss: 0.0277 - accuracy: 0.9918 - val_loss: 0.0312 - val_accuracy: 0.9906\n",
      "Epoch 7/50\n",
      "970/970 [==============================] - 9s 10ms/step - loss: 0.0249 - accuracy: 0.9926 - val_loss: 0.0302 - val_accuracy: 0.9909\n",
      "Epoch 8/50\n",
      "970/970 [==============================] - 9s 10ms/step - loss: 0.0223 - accuracy: 0.9936 - val_loss: 0.0301 - val_accuracy: 0.9910\n",
      "Epoch 9/50\n",
      "970/970 [==============================] - 9s 9ms/step - loss: 0.0203 - accuracy: 0.9941 - val_loss: 0.0281 - val_accuracy: 0.9917\n",
      "Epoch 10/50\n",
      "970/970 [==============================] - 9s 9ms/step - loss: 0.0184 - accuracy: 0.9946 - val_loss: 0.0276 - val_accuracy: 0.9919\n",
      "Epoch 11/50\n",
      "970/970 [==============================] - 9s 10ms/step - loss: 0.0169 - accuracy: 0.9951 - val_loss: 0.0275 - val_accuracy: 0.9921\n",
      "Epoch 12/50\n",
      "970/970 [==============================] - 9s 10ms/step - loss: 0.0157 - accuracy: 0.9954 - val_loss: 0.0270 - val_accuracy: 0.9920\n",
      "Epoch 13/50\n",
      "970/970 [==============================] - 9s 9ms/step - loss: 0.0142 - accuracy: 0.9957 - val_loss: 0.0269 - val_accuracy: 0.9924\n",
      "Epoch 14/50\n",
      "970/970 [==============================] - 9s 10ms/step - loss: 0.0132 - accuracy: 0.9962 - val_loss: 0.0268 - val_accuracy: 0.9924\n",
      "Epoch 15/50\n",
      "970/970 [==============================] - 9s 10ms/step - loss: 0.0123 - accuracy: 0.9964 - val_loss: 0.0267 - val_accuracy: 0.9925\n",
      "Epoch 16/50\n",
      "970/970 [==============================] - 9s 10ms/step - loss: 0.0116 - accuracy: 0.9966 - val_loss: 0.0267 - val_accuracy: 0.9925\n",
      "Epoch 17/50\n",
      "970/970 [==============================] - 9s 9ms/step - loss: 0.0107 - accuracy: 0.9969 - val_loss: 0.0269 - val_accuracy: 0.9924\n",
      "Epoch 18/50\n",
      "970/970 [==============================] - 9s 9ms/step - loss: 0.0103 - accuracy: 0.9970 - val_loss: 0.0262 - val_accuracy: 0.9929\n",
      "Epoch 19/50\n",
      "970/970 [==============================] - 9s 9ms/step - loss: 0.0096 - accuracy: 0.9972 - val_loss: 0.0270 - val_accuracy: 0.9926\n",
      "Epoch 20/50\n",
      "970/970 [==============================] - 9s 9ms/step - loss: 0.0091 - accuracy: 0.9973 - val_loss: 0.0267 - val_accuracy: 0.9927\n",
      "Epoch 21/50\n",
      "970/970 [==============================] - 9s 9ms/step - loss: 0.0086 - accuracy: 0.9976 - val_loss: 0.0269 - val_accuracy: 0.9928\n",
      "\n",
      "Epoch 00021: ReduceLROnPlateau reducing learning rate to 0.0009999999776482583.\n",
      "Epoch 22/50\n",
      "970/970 [==============================] - 9s 9ms/step - loss: 0.0075 - accuracy: 0.9979 - val_loss: 0.0263 - val_accuracy: 0.9928\n",
      "Epoch 23/50\n",
      "970/970 [==============================] - 9s 9ms/step - loss: 0.0073 - accuracy: 0.9980 - val_loss: 0.0263 - val_accuracy: 0.9928\n",
      "Epoch 24/50\n",
      "970/970 [==============================] - 9s 9ms/step - loss: 0.0074 - accuracy: 0.9980 - val_loss: 0.0264 - val_accuracy: 0.9930\n",
      "\n",
      "Epoch 00024: ReduceLROnPlateau reducing learning rate to 9.999999310821295e-05.\n",
      "Epoch 25/50\n",
      "970/970 [==============================] - 9s 9ms/step - loss: 0.0072 - accuracy: 0.9980 - val_loss: 0.0264 - val_accuracy: 0.9929\n",
      "Epoch 26/50\n",
      "970/970 [==============================] - 9s 9ms/step - loss: 0.0072 - accuracy: 0.9980 - val_loss: 0.0263 - val_accuracy: 0.9929\n",
      "Epoch 27/50\n",
      "970/970 [==============================] - 10s 10ms/step - loss: 0.0073 - accuracy: 0.9981 - val_loss: 0.0263 - val_accuracy: 0.9928\n",
      "\n",
      "Epoch 00027: ReduceLROnPlateau reducing learning rate to 9.999999019782991e-06.\n",
      "Epoch 28/50\n",
      "970/970 [==============================] - 9s 10ms/step - loss: 0.0073 - accuracy: 0.9981 - val_loss: 0.0263 - val_accuracy: 0.9928\n"
     ]
    },
    {
     "data": {
      "image/png": "[encoded data removed]",
      "text/plain": [
       "<Figure size 1440x360 with 2 Axes>"
      ]
     },
     "metadata": {
      "needs_background": "light"
     },
     "output_type": "display_data"
    },
    {
     "data": {
      "image/png": "[encoded data removed]",
      "text/plain": [
       "<Figure size 1152x1152 with 1 Axes>"
      ]
     },
     "metadata": {
      "needs_background": "light"
     },
     "output_type": "display_data"
    },
    {
     "name": "stdout",
     "output_type": "stream",
     "text": [
      "----------------------------------------------------------------------------------------------------\n",
      "Нейросеть. Лучшая модель: BoW + dense\n",
      "Класс: 0                    99.40% сеть отнесла к классу 0                    - ВЕРНО :-)\n",
      "Класс: 10                   99.20% сеть отнесла к классу 10                   - ВЕРНО :-)\n",
      "\n",
      "Средняя точность распознавания: 99.30%\n"
     ]
    }
   ],
   "source": [
    "model_text_bow_dense,idx_train, idx_test ='','',''\n",
    "gc.collect()\n",
    "\n",
    "seed_all(1234)\n",
    "model_text_bow_dense = Sequential()\n",
    "model_text_bow_dense.add(Dense(150, input_dim=VOCAB_SIZE, activation=\"relu\"))\n",
    "model_text_bow_dense.add(BatchNormalization())\n",
    "\n",
    "\n",
    "model_text_bow_dense.add(Dense(200, activation='relu'))\n",
    "model_text_bow_dense.add(Dropout(0.5))\n",
    "\n",
    "model_text_bow_dense.add(Dense(CLASS_COUNT, activation='softmax'))\n",
    "\n",
    "#d_class_weights = {0:3.237373, 1:1}\n",
    "d_class_weights=[]\n",
    "\n",
    "# Входные данные подаются в виде векторов bag of words\n",
    "compile_train_eval_model(model_text_bow_dense,\n",
    "                         x_train_01, y_train,\n",
    "                         x_test_01, y_test,\n",
    "                         epochs=50,\n",
    "                         batch_size=256,\n",
    "                         cm_size=(16, 16),\n",
    "                         class_labels=CLASS_LIST,\n",
    "                            class_weight = d_class_weights,\n",
    "                          optimizer = 'SGD',  #100 эпох val_loss: 0.0307 - точность 99.05\n",
    "                         title='BoW + dense',\n",
    "                        nomer_modeli ='1')\n",
    "\n"
   ]
  },
  {
   "cell_type": "markdown",
   "id": "82b7a117",
   "metadata": {},
   "source": [
    "# Теперь мы учим только на узких классах. Их всего 8"
   ]
  },
  {
   "cell_type": "markdown",
   "id": "6bcb44eb",
   "metadata": {},
   "source": [
    "# ТОКЕНАЙЗЕР! ДЕЛАЕМ НОВЫЙ! У КАЖДОЙ СЕТКИ БУДЕТ СВОЙ. "
   ]
  },
  {
   "cell_type": "code",
   "execution_count": 181,
   "id": "c612cb56",
   "metadata": {},
   "outputs": [],
   "source": [
    "# Загрузка данных из файла в таблицу\n",
    "df = pd.read_csv('train_dataset_train _mod3000.csv')"
   ]
  },
  {
   "cell_type": "code",
   "execution_count": 182,
   "id": "e52cebc8",
   "metadata": {},
   "outputs": [],
   "source": [
    "#удаляем 10 класс\n",
    "df =df.loc[df['groups'] != 10]"
   ]
  },
  {
   "cell_type": "code",
   "execution_count": 183,
   "id": "7c9299de",
   "metadata": {},
   "outputs": [
    {
     "data": {
      "text/html": [
       "<div>\n",
       "<style scoped>\n",
       "    .dataframe tbody tr th:only-of-type {\n",
       "        vertical-align: middle;\n",
       "    }\n",
       "\n",
       "    .dataframe tbody tr th {\n",
       "        vertical-align: top;\n",
       "    }\n",
       "\n",
       "    .dataframe thead th {\n",
       "        text-align: right;\n",
       "    }\n",
       "</style>\n",
       "<table border=\"1\" class=\"dataframe\">\n",
       "  <thead>\n",
       "    <tr style=\"text-align: right;\">\n",
       "      <th></th>\n",
       "      <th>id</th>\n",
       "      <th>name</th>\n",
       "      <th>groups</th>\n",
       "    </tr>\n",
       "  </thead>\n",
       "  <tbody>\n",
       "    <tr>\n",
       "      <th>1</th>\n",
       "      <td>1035</td>\n",
       "      <td>Мин.вода Нагутская №26    0.5л</td>\n",
       "      <td>0</td>\n",
       "    </tr>\n",
       "    <tr>\n",
       "      <th>9</th>\n",
       "      <td>1043</td>\n",
       "      <td>Лапша удон, Курица с овощами, Соус терияки</td>\n",
       "      <td>1</td>\n",
       "    </tr>\n",
       "    <tr>\n",
       "      <th>10</th>\n",
       "      <td>1044</td>\n",
       "      <td>Макароны МАКФА Витки 231 3А, в/с 400гр., Челяб...</td>\n",
       "      <td>1</td>\n",
       "    </tr>\n",
       "    <tr>\n",
       "      <th>18</th>\n",
       "      <td>1052</td>\n",
       "      <td>Вода 0,5 литр (Святой источник)</td>\n",
       "      <td>0</td>\n",
       "    </tr>\n",
       "    <tr>\n",
       "      <th>19</th>\n",
       "      <td>1053</td>\n",
       "      <td>Напиток Любимый 1,93л цитрусовый Микс т/п</td>\n",
       "      <td>4</td>\n",
       "    </tr>\n",
       "    <tr>\n",
       "      <th>22</th>\n",
       "      <td>1056</td>\n",
       "      <td>Напиток слабоалкогольный \"Медовуха\" темн. (Мед...</td>\n",
       "      <td>4</td>\n",
       "    </tr>\n",
       "    <tr>\n",
       "      <th>27</th>\n",
       "      <td>1061</td>\n",
       "      <td>ЧАЙ \"МАЛИНА -ТИМЬЯН\"</td>\n",
       "      <td>7</td>\n",
       "    </tr>\n",
       "    <tr>\n",
       "      <th>31</th>\n",
       "      <td>1065</td>\n",
       "      <td>Молоко Мещерские Росы 3,2%</td>\n",
       "      <td>3</td>\n",
       "    </tr>\n",
       "    <tr>\n",
       "      <th>34</th>\n",
       "      <td>1068</td>\n",
       "      <td>Хлеб Бородинский фирменный 5</td>\n",
       "      <td>9</td>\n",
       "    </tr>\n",
       "    <tr>\n",
       "      <th>35</th>\n",
       "      <td>1069</td>\n",
       "      <td>6: 3172177 HEINZ Печенье с яблоком    16</td>\n",
       "      <td>6</td>\n",
       "    </tr>\n",
       "    <tr>\n",
       "      <th>37</th>\n",
       "      <td>1071</td>\n",
       "      <td>*ХЛЕБ КАРАВАЙ АРОМАТНЫЙ 670Г</td>\n",
       "      <td>9</td>\n",
       "    </tr>\n",
       "    <tr>\n",
       "      <th>39</th>\n",
       "      <td>1073</td>\n",
       "      <td>МОЛОКО 2,5% 1Л ПЛБ /КНЕВИЧИ/</td>\n",
       "      <td>3</td>\n",
       "    </tr>\n",
       "    <tr>\n",
       "      <th>40</th>\n",
       "      <td>1074</td>\n",
       "      <td>Напиток 0.5 шт</td>\n",
       "      <td>4</td>\n",
       "    </tr>\n",
       "    <tr>\n",
       "      <th>55</th>\n",
       "      <td>1089</td>\n",
       "      <td>Шоколад Риттер Спорт 100г имбирное печенье</td>\n",
       "      <td>6</td>\n",
       "    </tr>\n",
       "    <tr>\n",
       "      <th>56</th>\n",
       "      <td>1090</td>\n",
       "      <td>Энергетический напиток Генезис желтая  звезда ...</td>\n",
       "      <td>4</td>\n",
       "    </tr>\n",
       "    <tr>\n",
       "      <th>70</th>\n",
       "      <td>1104</td>\n",
       "      <td>Лапша Биг Ланч курица 90 гр.</td>\n",
       "      <td>1</td>\n",
       "    </tr>\n",
       "    <tr>\n",
       "      <th>72</th>\n",
       "      <td>1106</td>\n",
       "      <td>Хлеб \"Тостовый\" 0,21кг АО Русский хлеб</td>\n",
       "      <td>9</td>\n",
       "    </tr>\n",
       "    <tr>\n",
       "      <th>74</th>\n",
       "      <td>1108</td>\n",
       "      <td>хлеб белый порциями</td>\n",
       "      <td>9</td>\n",
       "    </tr>\n",
       "    <tr>\n",
       "      <th>75</th>\n",
       "      <td>1109</td>\n",
       "      <td>Вода Черноголовская природн 1кат.5</td>\n",
       "      <td>0</td>\n",
       "    </tr>\n",
       "    <tr>\n",
       "      <th>79</th>\n",
       "      <td>1113</td>\n",
       "      <td>ХЛЕБ ПШЕНИЧНЫЙ 700Г</td>\n",
       "      <td>9</td>\n",
       "    </tr>\n",
       "  </tbody>\n",
       "</table>\n",
       "</div>"
      ],
      "text/plain": [
       "      id                                               name  groups\n",
       "1   1035                     Мин.вода Нагутская №26    0.5л       0\n",
       "9   1043        Лапша удон, Курица с овощами, Соус терияки        1\n",
       "10  1044  Макароны МАКФА Витки 231 3А, в/с 400гр., Челяб...       1\n",
       "18  1052                    Вода 0,5 литр (Святой источник)       0\n",
       "19  1053          Напиток Любимый 1,93л цитрусовый Микс т/п       4\n",
       "22  1056  Напиток слабоалкогольный \"Медовуха\" темн. (Мед...       4\n",
       "27  1061                               ЧАЙ \"МАЛИНА -ТИМЬЯН\"       7\n",
       "31  1065                         Молоко Мещерские Росы 3,2%       3\n",
       "34  1068                       Хлеб Бородинский фирменный 5       9\n",
       "35  1069           6: 3172177 HEINZ Печенье с яблоком    16       6\n",
       "37  1071                       *ХЛЕБ КАРАВАЙ АРОМАТНЫЙ 670Г       9\n",
       "39  1073                       МОЛОКО 2,5% 1Л ПЛБ /КНЕВИЧИ/       3\n",
       "40  1074                                     Напиток 0.5 шт       4\n",
       "55  1089         Шоколад Риттер Спорт 100г имбирное печенье       6\n",
       "56  1090  Энергетический напиток Генезис желтая  звезда ...       4\n",
       "70  1104                       Лапша Биг Ланч курица 90 гр.       1\n",
       "72  1106             Хлеб \"Тостовый\" 0,21кг АО Русский хлеб       9\n",
       "74  1108                                хлеб белый порциями       9\n",
       "75  1109                 Вода Черноголовская природн 1кат.5       0\n",
       "79  1113                                ХЛЕБ ПШЕНИЧНЫЙ 700Г       9"
      ]
     },
     "execution_count": 183,
     "metadata": {},
     "output_type": "execute_result"
    }
   ],
   "source": [
    "df.head(20)"
   ]
  },
  {
   "cell_type": "code",
   "execution_count": 188,
   "id": "3c86a4a8",
   "metadata": {
    "scrolled": true
   },
   "outputs": [
    {
     "name": "stdout",
     "output_type": "stream",
     "text": [
      "Количество записей класса 0: 21566\n",
      "Количество записей класса 1: 17136\n",
      "Количество записей класса 4: 27591\n",
      "Количество записей класса 7: 12051\n",
      "Количество записей класса 3: 21045\n",
      "Количество записей класса 9: 42002\n",
      "Количество записей класса 6: 10007\n",
      "Количество записей класса 2: 6902\n"
     ]
    }
   ],
   "source": [
    "data_summary(df, df.groups.unique())"
   ]
  },
  {
   "cell_type": "code",
   "execution_count": 189,
   "id": "1ac4762a",
   "metadata": {},
   "outputs": [
    {
     "name": "stdout",
     "output_type": "stream",
     "text": [
      "(158300, 3)\n"
     ]
    }
   ],
   "source": [
    "print(df.shape)"
   ]
  },
  {
   "cell_type": "code",
   "execution_count": 190,
   "id": "1d40ecb7",
   "metadata": {},
   "outputs": [
    {
     "name": "stdout",
     "output_type": "stream",
     "text": [
      "Удаляются классы: ['нет данных']\n"
     ]
    }
   ],
   "source": [
    "#отбалансируем .... хотя может быть было бы не плохо еще и дубли отттуда грохнуть\n",
    "text_count_interval = [0, 42002]\n",
    "\n",
    "# Фильтрация данных - отбрасываются все данные без категории\n",
    "# и все классы объемом менее нижней границы разрешенного интервала\n",
    "class_to_drop = ['нет данных']\n",
    "for cls in df.groups.unique():\n",
    "    if df[df.groups == cls].shape[0] < text_count_interval[0]:\n",
    "        class_to_drop.append(cls)\n",
    "\n",
    "print(f'Удаляются классы: {class_to_drop}')\n",
    "\n",
    "del_mask = df.groups.isin(class_to_drop)\n",
    "df = df[~del_mask]\n",
    "\n",
    "# По всем оставшимся классам количество примеров ограничивается не более\n",
    "# верхней границы разрешенного интервала\n",
    "for cls in df.groups.unique():\n",
    "    df = df.drop(df[df.groups == cls].index[text_count_interval[1]:])"
   ]
  },
  {
   "cell_type": "code",
   "execution_count": 191,
   "id": "1c5e78d9",
   "metadata": {},
   "outputs": [
    {
     "name": "stdout",
     "output_type": "stream",
     "text": [
      "Количество записей класса 0: 21566\n",
      "Количество записей класса 1: 17136\n",
      "Количество записей класса 4: 27591\n",
      "Количество записей класса 7: 12051\n",
      "Количество записей класса 3: 21045\n",
      "Количество записей класса 9: 42002\n",
      "Количество записей класса 6: 10007\n",
      "Количество записей класса 2: 6902\n"
     ]
    }
   ],
   "source": [
    "data_summary(df, df.groups.unique())"
   ]
  },
  {
   "cell_type": "code",
   "execution_count": 192,
   "id": "404cb9f5",
   "metadata": {},
   "outputs": [],
   "source": [
    "text_data = df.name.tolist()\n",
    "class_data = df.groups.tolist()"
   ]
  },
  {
   "cell_type": "code",
   "execution_count": 193,
   "id": "572af3ed",
   "metadata": {},
   "outputs": [],
   "source": [
    "VOCAB_SIZE = 18616"
   ]
  },
  {
   "cell_type": "code",
   "execution_count": 194,
   "id": "f73998b7",
   "metadata": {},
   "outputs": [
    {
     "name": "stdout",
     "output_type": "stream",
     "text": [
      "Размер словаря: 34325\n"
     ]
    }
   ],
   "source": [
    "\n",
    "tokenizer = Tokenizer(num_words=VOCAB_SIZE, filters='0123456789!\"#$%&()*+,-–—./…:;<=>?@[\\\\]^_`{|}~«»\\t\\n\\xa0\\ufeff', lower=True, split=' ', oov_token='неизвестное_слово', char_level=False)\n",
    "\n",
    "\n",
    "\n",
    "# Построение частотного словаря по обучающим текстам\n",
    "tokenizer.fit_on_texts(text_data)\n",
    "\n",
    "# Построение словаря в виде пар слово - индекс\n",
    "items = list(tokenizer.word_index.items())\n",
    "print(f'Размер словаря: {len(items)}')\n",
    "del items"
   ]
  },
  {
   "cell_type": "code",
   "execution_count": 195,
   "id": "6868d36f",
   "metadata": {},
   "outputs": [
    {
     "name": "stdout",
     "output_type": "stream",
     "text": [
      "Всего словарь: 34324 для миним.повторов слов 1 установи размер словаря 18616\n"
     ]
    }
   ],
   "source": [
    "get_recomended_VOCAB_SIZE(tokenizer,1)"
   ]
  },
  {
   "cell_type": "code",
   "execution_count": 196,
   "id": "014c4eb7",
   "metadata": {},
   "outputs": [
    {
     "name": "stdout",
     "output_type": "stream",
     "text": [
      "Список классов: [0 1 2 3 4 6 7 9]\n",
      "Всего классов: 8\n",
      "Форма выходных данных: (158300,)\n",
      "Пример числовых меток классов: [0 1 1 0 4 4 6 3 7 5]\n"
     ]
    }
   ],
   "source": [
    "# Кодирование меток классов индексами (числами)\n",
    "encoder = LabelEncoder()\n",
    "class_labels = encoder.fit_transform(class_data)\n",
    "\n",
    "CLASS_LIST = encoder.classes_\n",
    "CLASS_COUNT = len(CLASS_LIST)\n",
    "\n",
    "print(f'Список классов: {CLASS_LIST}')\n",
    "print(f'Всего классов: {CLASS_COUNT}')\n",
    "print(f'Форма выходных данных: {class_labels.shape}')\n",
    "print(f'Пример числовых меток классов: {class_labels[:10]}')"
   ]
  },
  {
   "cell_type": "markdown",
   "id": "df81fc4a",
   "metadata": {},
   "source": [
    "# Создаем выборки для мешка слов "
   ]
  },
  {
   "cell_type": "code",
   "execution_count": 197,
   "id": "066881c0",
   "metadata": {},
   "outputs": [
    {
     "data": {
      "text/plain": [
       "3140"
      ]
     },
     "execution_count": 197,
     "metadata": {},
     "output_type": "execute_result"
    }
   ],
   "source": [
    "x_train_clip, y_train, x_test_clip, y_test,x_data,x_data_01,y_pred, model_text_bow_dense ='','','','','','','',''\n",
    "x_train_01, y_train, x_test_01, y_test ='','','',''\n",
    "x_data_01 = ''\n",
    "gc.collect()"
   ]
  },
  {
   "cell_type": "code",
   "execution_count": 198,
   "id": "89ff1f13",
   "metadata": {},
   "outputs": [
    {
     "data": {
      "text/plain": [
       "158300"
      ]
     },
     "execution_count": 198,
     "metadata": {},
     "output_type": "execute_result"
    }
   ],
   "source": [
    "len(text_data)"
   ]
  },
  {
   "cell_type": "code",
   "execution_count": 199,
   "id": "542dccf4",
   "metadata": {},
   "outputs": [
    {
     "name": "stdout",
     "output_type": "stream",
     "text": [
      "Размер мешка:  (158300, 18616)\n",
      "Пример мешка:  [0. 0. 1. 0. 0. 0. 0. 0. 1. 0. 0. 0. 0. 0. 0. 0. 0. 0. 0. 0.]\n",
      "Размер правды:  (158300, 8)\n",
      "Пример правды [1. 0. 0. 0. 0. 0. 0. 0.]\n"
     ]
    }
   ],
   "source": [
    "\n",
    "# Преобразование входных текстов в разреженную матрицу из векторов Bag of Words\n",
    "x_data_01 = tokenizer.texts_to_matrix(text_data)\n",
    "# Вывод формы и примера данных\n",
    "print('Размер мешка: ', x_data_01.shape)\n",
    "print('Пример мешка: ', x_data_01[0, :20])\n",
    "\n",
    "# Преобразование меток класса к векторам one hot encoding\n",
    "y_data = utils.to_categorical(class_labels, CLASS_COUNT)\n",
    "# Вывод формы и примера данных\n",
    "print('Размер правды: ',y_data.shape )\n",
    "print('Пример правды', y_data[0])\n",
    "\n",
    "#СОХРАНИМ ТОКЕНАЙЗЕР ДЛЯ МОДЕЛИ 2\n",
    "with open('tokenizer_mod_2.pickle', 'wb') as handle:\n",
    "    pickle.dump(tokenizer, handle, protocol=pickle.HIGHEST_PROTOCOL)"
   ]
  },
  {
   "cell_type": "code",
   "execution_count": 200,
   "id": "c2334d72",
   "metadata": {},
   "outputs": [
    {
     "name": "stdout",
     "output_type": "stream",
     "text": [
      "(126640, 18616) (31660, 18616)\n",
      "(126640, 8) (31660, 8)\n"
     ]
    }
   ],
   "source": [
    "TRAIN_TEST_RATIO = 0.2\n",
    "# Получение индексов разделения основного набора на обучающую и тестовую выборки\n",
    "idx_train, idx_test = train_test_split(list(range(len(x_data_01))),\n",
    "                                      stratify=y_data,\n",
    "                                      test_size=TRAIN_TEST_RATIO,\n",
    "                                      random_state = 11)\n",
    "\n",
    "# Разделение в соответствии с полученными индексами\n",
    "#x_train, x_test = x_data[idx_train], x_data[idx_test]\n",
    "\n",
    "#x_train_01, x_test_01 = x_data_01[idx_train], x_data_01[idx_test]\n",
    "#y_train, y_test = y_data[idx_train], y_data[idx_test]\n",
    "\n",
    "\n",
    "\n",
    "\n",
    "x_train_01 =x_data_01[idx_train]\n",
    "x_test_01 = x_data_01[idx_test]\n",
    "y_train = y_data[idx_train]\n",
    "y_test =  y_data[idx_test]\n",
    "\n",
    "# Проверка результата\n",
    "\n",
    "print(x_train_01.shape, x_test_01.shape)\n",
    "print(y_train.shape, y_test.shape)"
   ]
  },
  {
   "cell_type": "code",
   "execution_count": 201,
   "id": "468bb16b",
   "metadata": {},
   "outputs": [
    {
     "data": {
      "text/plain": [
       "0"
      ]
     },
     "execution_count": 201,
     "metadata": {},
     "output_type": "execute_result"
    }
   ],
   "source": [
    "x_train_clip, x_test_clip, x_data,x_data_01,y_pred, model_text_bow_dense ='','','','','',''\n",
    "x_data_01 = ''\n",
    "gc.collect()"
   ]
  },
  {
   "cell_type": "code",
   "execution_count": 205,
   "id": "1fe5f5da",
   "metadata": {},
   "outputs": [
    {
     "name": "stdout",
     "output_type": "stream",
     "text": [
      "{0: 1.9476027079662432, 1: 2.4510971055088704, 2: 6.085482468849609, 3: 1.9958184842005227, 4: 1.5223079989851764, 5: 4.19726191665834, 6: 3.4853539125383786, 7: 1.0}\n"
     ]
    }
   ],
   "source": [
    "d_class_weights = balance(df)  #получаем веса для балансировки классов\n",
    "print(d_class_weights)"
   ]
  },
  {
   "cell_type": "code",
   "execution_count": 92,
   "id": "5ed66000",
   "metadata": {},
   "outputs": [
    {
     "name": "stdout",
     "output_type": "stream",
     "text": [
      "Model: \"sequential_5\"\n",
      "_________________________________________________________________\n",
      "Layer (type)                 Output Shape              Param #   \n",
      "=================================================================\n",
      "dense_15 (Dense)             (None, 32)                595712    \n",
      "_________________________________________________________________\n",
      "batch_normalization_5 (Batch (None, 32)                128       \n",
      "_________________________________________________________________\n",
      "dense_16 (Dense)             (None, 16)                528       \n",
      "_________________________________________________________________\n",
      "batch_normalization_6 (Batch (None, 16)                64        \n",
      "_________________________________________________________________\n",
      "dense_17 (Dense)             (None, 8)                 136       \n",
      "=================================================================\n",
      "Total params: 596,568\n",
      "Trainable params: 596,472\n",
      "Non-trainable params: 96\n",
      "_________________________________________________________________\n",
      "Epoch 1/200\n",
      "7915/7915 [==============================] - 53s 7ms/step - loss: 0.0810 - accuracy: 0.9830 - val_loss: 0.0295 - val_accuracy: 0.9924\n",
      "Epoch 2/200\n",
      "7915/7915 [==============================] - 51s 6ms/step - loss: 0.0337 - accuracy: 0.9917 - val_loss: 0.0253 - val_accuracy: 0.9931\n",
      "Epoch 3/200\n",
      "7915/7915 [==============================] - 51s 6ms/step - loss: 0.0269 - accuracy: 0.9929 - val_loss: 0.0234 - val_accuracy: 0.9936\n",
      "Epoch 4/200\n",
      "7915/7915 [==============================] - 53s 7ms/step - loss: 0.0240 - accuracy: 0.9937 - val_loss: 0.0227 - val_accuracy: 0.9939\n",
      "Epoch 5/200\n",
      "7915/7915 [==============================] - 52s 7ms/step - loss: 0.0215 - accuracy: 0.9942 - val_loss: 0.0230 - val_accuracy: 0.9935\n",
      "Epoch 6/200\n",
      "7915/7915 [==============================] - 51s 6ms/step - loss: 0.0210 - accuracy: 0.9945 - val_loss: 0.0243 - val_accuracy: 0.9933\n",
      "Epoch 7/200\n",
      "7915/7915 [==============================] - 51s 6ms/step - loss: 0.0198 - accuracy: 0.9945 - val_loss: 0.0227 - val_accuracy: 0.9936\n",
      "\n",
      "Epoch 00007: ReduceLROnPlateau reducing learning rate to 0.0009999999776482583.\n",
      "Epoch 8/200\n",
      "7915/7915 [==============================] - 51s 6ms/step - loss: 0.0165 - accuracy: 0.9954 - val_loss: 0.0219 - val_accuracy: 0.9938\n",
      "Epoch 9/200\n",
      "7915/7915 [==============================] - 49s 6ms/step - loss: 0.0156 - accuracy: 0.9956 - val_loss: 0.0212 - val_accuracy: 0.9939\n",
      "Epoch 10/200\n",
      "7915/7915 [==============================] - 51s 6ms/step - loss: 0.0150 - accuracy: 0.9958 - val_loss: 0.0221 - val_accuracy: 0.9938\n",
      "Epoch 11/200\n",
      "7915/7915 [==============================] - 50s 6ms/step - loss: 0.0149 - accuracy: 0.9956 - val_loss: 0.0215 - val_accuracy: 0.9939\n",
      "Epoch 12/200\n",
      "7915/7915 [==============================] - 51s 6ms/step - loss: 0.0146 - accuracy: 0.9960 - val_loss: 0.0215 - val_accuracy: 0.9940\n",
      "\n",
      "Epoch 00012: ReduceLROnPlateau reducing learning rate to 9.999999310821295e-05.\n",
      "Epoch 13/200\n",
      "7915/7915 [==============================] - 52s 7ms/step - loss: 0.0141 - accuracy: 0.9960 - val_loss: 0.0214 - val_accuracy: 0.9941\n",
      "Epoch 14/200\n",
      "7915/7915 [==============================] - 50s 6ms/step - loss: 0.0140 - accuracy: 0.9959 - val_loss: 0.0213 - val_accuracy: 0.9941\n",
      "Epoch 15/200\n",
      "7915/7915 [==============================] - 51s 7ms/step - loss: 0.0142 - accuracy: 0.9959 - val_loss: 0.0213 - val_accuracy: 0.9941\n",
      "\n",
      "Epoch 00015: ReduceLROnPlateau reducing learning rate to 9.999999019782991e-06.\n",
      "Epoch 16/200\n",
      "7915/7915 [==============================] - 51s 6ms/step - loss: 0.0140 - accuracy: 0.9961 - val_loss: 0.0214 - val_accuracy: 0.9941\n",
      "Epoch 17/200\n",
      "7915/7915 [==============================] - 51s 6ms/step - loss: 0.0141 - accuracy: 0.9959 - val_loss: 0.0214 - val_accuracy: 0.9941\n",
      "Epoch 18/200\n",
      "7915/7915 [==============================] - 51s 6ms/step - loss: 0.0139 - accuracy: 0.9960 - val_loss: 0.0213 - val_accuracy: 0.9941\n",
      "\n",
      "Epoch 00018: ReduceLROnPlateau reducing learning rate to 9.99999883788405e-07.\n",
      "Epoch 19/200\n",
      "7915/7915 [==============================] - 51s 6ms/step - loss: 0.0141 - accuracy: 0.9959 - val_loss: 0.0214 - val_accuracy: 0.9940\n"
     ]
    },
    {
     "data": {
      "image/png": "[encoded data removed]",
      "text/plain": [
       "<Figure size 1440x360 with 2 Axes>"
      ]
     },
     "metadata": {
      "needs_background": "light"
     },
     "output_type": "display_data"
    },
    {
     "data": {
      "image/png": "[encoded data removed]",
      "text/plain": [
       "<Figure size 1152x1152 with 1 Axes>"
      ]
     },
     "metadata": {
      "needs_background": "light"
     },
     "output_type": "display_data"
    },
    {
     "name": "stdout",
     "output_type": "stream",
     "text": [
      "----------------------------------------------------------------------------------------------------\n",
      "Нейросеть. Лучшая модель: BoW + dense\n",
      "Класс: 0                    99.80% сеть отнесла к классу 0                    - ВЕРНО :-)\n",
      "Класс: 1                    99.40% сеть отнесла к классу 1                    - ВЕРНО :-)\n",
      "Класс: 2                    95.10% сеть отнесла к классу 2                    - ВЕРНО :-)\n",
      "Класс: 3                    99.00% сеть отнесла к классу 3                    - ВЕРНО :-)\n",
      "Класс: 4                    99.90% сеть отнесла к классу 4                    - ВЕРНО :-)\n",
      "Класс: 6                    99.90% сеть отнесла к классу 6                    - ВЕРНО :-)\n",
      "Класс: 7                    99.50% сеть отнесла к классу 7                    - ВЕРНО :-)\n",
      "Класс: 9                    99.60% сеть отнесла к классу 9                    - ВЕРНО :-)\n",
      "\n",
      "Средняя точность распознавания: 99.02%\n"
     ]
    }
   ],
   "source": [
    "seed_all(1234)\n",
    "gc.collect()\n",
    "seed_all(1234)\n",
    "# Последовательная модель\n",
    "model_text_bow_dense = Sequential()\n",
    "# Входной полносвязный слой\n",
    "model_text_bow_dense.add(Dense(32, input_dim=VOCAB_SIZE, activation=\"relu\"))\n",
    "model_text_bow_dense.add(BatchNormalization())\n",
    "# Слой регуляризации Dropout\n",
    "#model_text_bow_dense.add(Dropout(0.2))\n",
    "# Второй полносвязный слой\n",
    "model_text_bow_dense.add(Dense(16, activation='relu'))\n",
    "model_text_bow_dense.add(BatchNormalization())\n",
    "#model_text_bow_dense.add(BatchNormalization())\n",
    "# Слой регуляризации Dropout\n",
    "#model_text_bow_dense.add(Dropout(0.1))\n",
    "# Третий полносвязный слой\n",
    "#model_text_bow_dense.add(Dense(35, activation='relu'))\n",
    "# # Слой регуляризации Dropout\n",
    "#model_text_bow_dense.add(Dropout(0.6))\n",
    "# Выходной полносвязный слой\n",
    "model_text_bow_dense.add(Dense(CLASS_COUNT, activation='softmax'))\n",
    "\n",
    "#class_weight = class_weight.compute_class_weight('balanced',np.unique(y_train), y_train)\n",
    "# class_weight = class_weight.compute_class_weight(y_train)\n",
    "# d_class_weights = dict(enumerate(class_weights))\n",
    "# print(d_class_weights)\n",
    "#[0 1 2 3 4 6 7 9]\n",
    "#d_class_weights = {0:1, 1:1, 2:3.844, 3:1, 4:1, 6:1.499, 7:1.244, 9:1}\n",
    "#d_class_weights = {0:1.9476, 1:2.451, 2:10.7642, 3:1.99582, 4:1.52231, 5:4.19726, 6:3.485354, 7:1}\n",
    "\n",
    "#{0: 1.9476027079662432, 1: 2.4510971055088704, 2: 6.085482468849609, 3: 1.9958184842005227, 4: 1.5223079989851764, 5: 4.19726191665834, 6: 3.4853539125383786, 7: 1.0}\n",
    "\n",
    "\n",
    "# Входные данные подаются в виде векторов bag of words\n",
    "compile_train_eval_model(model_text_bow_dense,\n",
    "                         x_train_01, y_train,\n",
    "                         x_test_01, y_test,\n",
    "                         epochs=200,\n",
    "                         batch_size=16,\n",
    "                         cm_size=(16, 16),\n",
    "                         optimizer = 'SGD',\n",
    "                         class_labels=CLASS_LIST,\n",
    "                         class_weight = d_class_weights,\n",
    "                         title='BoW + dense',\n",
    "                        nomer_modeli ='2')"
   ]
  },
  {
   "cell_type": "markdown",
   "id": "16ff6ba2",
   "metadata": {},
   "source": [
    "# ФОРМИРУЕМ САБМИТ"
   ]
  },
  {
   "cell_type": "markdown",
   "id": "4b7ce2fb",
   "metadata": {},
   "source": [
    "# ДЕЛАЕМ ОБЩИЙ КОД ИЗ ДВУХ НЕЙРОНОК"
   ]
  },
  {
   "cell_type": "code",
   "execution_count": 93,
   "id": "197bd3ee",
   "metadata": {},
   "outputs": [],
   "source": [
    "#сначала определяем 10 класс и все остальное, потом все остальное делим на 8 классов \n",
    "#сразу формируем список в сабмит"
   ]
  },
  {
   "cell_type": "code",
   "execution_count": 94,
   "id": "856be5ae",
   "metadata": {},
   "outputs": [
    {
     "data": {
      "text/plain": [
       "15501"
      ]
     },
     "execution_count": 94,
     "metadata": {},
     "output_type": "execute_result"
    }
   ],
   "source": [
    "x_train_clip, y_train, x_test_clip, y_test,x_data,x_data_01,y_pred ='','','','','','',''\n",
    "gc.collect()"
   ]
  },
  {
   "cell_type": "code",
   "execution_count": 95,
   "id": "0c67e6ab",
   "metadata": {},
   "outputs": [],
   "source": [
    "# Загрузка данных из файла в таблицу\n",
    "#df_test = pd.read_csv('test_dataset_test.csv')\n",
    "df_test = pd.read_csv('test_dataset_test.csv')"
   ]
  },
  {
   "cell_type": "code",
   "execution_count": 96,
   "id": "4679917a",
   "metadata": {},
   "outputs": [],
   "source": [
    "df_test.fillna(value='ййй', inplace=True)\n",
    "test_data = df_test.name.tolist()\n",
    "test_id = df_test.id.tolist()"
   ]
  },
  {
   "cell_type": "code",
   "execution_count": 134,
   "id": "7e9c8662",
   "metadata": {},
   "outputs": [
    {
     "data": {
      "text/plain": [
       "2148"
      ]
     },
     "execution_count": 134,
     "metadata": {},
     "output_type": "execute_result"
    }
   ],
   "source": [
    "x_train_clip, y_train, x_test_clip, y_test,x_data,x_data_01,y_pred ='','','','','','',''\n",
    "x_data_02, x_data_02 = '',''\n",
    "model10, model8 = '',''\n",
    "x_data_01 = '' \n",
    "gc.collect()\n",
    "\n",
    "\n"
   ]
  },
  {
   "cell_type": "markdown",
   "id": "66095dc2",
   "metadata": {},
   "source": [
    "# быстрая выгрузка. ускорено в 10 раз. "
   ]
  },
  {
   "cell_type": "code",
   "execution_count": 138,
   "id": "40039704",
   "metadata": {},
   "outputs": [
    {
     "name": "stdout",
     "output_type": "stream",
     "text": [
      "Партия 0\n",
      "Партия 10000\n",
      "Партия 20000\n",
      "Партия 30000\n",
      "Партия 40000\n",
      "Партия 50000\n",
      "Партия 60000\n",
      "Партия 70000\n",
      "Партия 80000\n",
      "Партия 90000\n",
      "Партия 100000\n",
      "Партия 110000\n",
      "Партия 120000\n",
      "Партия 130000\n",
      "Партия 140000\n",
      "Партия 150000\n",
      "Партия 160000\n",
      "Партия 170000\n",
      "Партия 180000\n",
      "Партия 190000\n",
      "Партия 200000\n",
      "Партия 210000\n",
      "Партия 220000\n",
      "Партия 230000\n",
      "Партия 240000\n",
      "Партия 250000\n",
      "Партия 260000\n",
      "Партия 270000\n",
      "Партия 280000\n",
      "\n",
      "\n",
      "Берем то, что не попало в 10\n",
      "Партия 0\n",
      "Партия 10000\n",
      "Партия 20000\n",
      "Партия 30000\n",
      "Партия 40000\n",
      "Партия 50000\n",
      "Партия 60000\n",
      "готово 22_sample_solution.csv\n",
      "Записано строк  282227\n",
      "CPU times: total: 1min 55s\n",
      "Wall time: 1min 47s\n"
     ]
    },
    {
     "data": {
      "text/plain": [
       "2748"
      ]
     },
     "execution_count": 138,
     "metadata": {},
     "output_type": "execute_result"
    }
   ],
   "source": [
    "%%time\n",
    "gc.collect()\n",
    "\n",
    "model10 = load_model(f'{NOMER_EXP}_1.mdl_wts.hdf5') #модель для анализа 10 класса и все осталььные\n",
    "\n",
    "with open('tokenizer_mod_1.pickle', 'rb') as handle:\n",
    "    tokenizer1 = pickle.load(handle)\n",
    "\n",
    "x_data_01 = tokenizer1.texts_to_matrix(test_data)\n",
    "\n",
    "\n",
    "new_f = 'id,groups'\n",
    "CLASS_LIST8 = list(\"01234679\")\n",
    "CLASS_LIST10 = [ '0', '10']\n",
    "step = 10000\n",
    "\n",
    "ind = []\n",
    "strok = 0\n",
    "for i in range(0, x_data_01.shape[0], step):\n",
    "    gc.collect()\n",
    "    \n",
    "    print('Партия',i )\n",
    "    \n",
    "    #предиктим партию\n",
    "    y_pred = model10.predict(x_data_01[i:i+step]) \n",
    "    \n",
    "    #предикт переводим в список классов\n",
    "    y_pred=list(map(lambda x: CLASS_LIST10[np.argmax(x)], y_pred)) #получили список классов по предикту\n",
    "    \n",
    "    \n",
    "    for n in range(len(y_pred)):\n",
    "        cls = y_pred[n]\n",
    "        if cls != '10': #если унас класс не 10, то следует уточнить в другой модели, что же у нас за класс такой.\n",
    "            ind.append(i + n) #добавляем нужный индекс\n",
    "            continue\n",
    "      \n",
    "        #запишем в файл    \n",
    "        id = test_id[i+n]\n",
    "        st = f\"{id},{cls}\"\n",
    "        new_f = new_f +'\\n'+st\n",
    "        strok +=1\n",
    "\n",
    "#Теперь берем то, что не попало в 10 класс и надо его распознавать.  \n",
    "print('\\n\\nТЕПЕРЬ Берем то, что не попало в 10')\n",
    "\n",
    "\n",
    "\n",
    "del x_data_01,y_pred\n",
    "del model10, tokenizer1\n",
    "gc.collect()\n",
    "\n",
    "model8 = load_model(f'{NOMER_EXP}_2.mdl_wts.hdf5') #модель для анализа всех остальных\n",
    "with open('tokenizer_mod_2.pickle', 'rb') as handle:\n",
    "    tokenizer2 = pickle.load(handle)\n",
    "    \n",
    "\n",
    "x_data_02 = tokenizer2.texts_to_matrix(test_data)\n",
    "x_train_02 = x_data_02[ind] #фильтруем данные после работы певой сетки\n",
    "test_id2 = [test_id[i] for i in ind] #jоставляем только id из нужных позиций\n",
    "\n",
    "for i in range(0, x_train_02.shape[0], step):\n",
    "   \n",
    "    print('Партия',i )\n",
    "    y_pred = model8.predict(x_train_02[i:i+step]) \n",
    "    #предикт переводим в список классов\n",
    "    y_pred=list(map(lambda x: CLASS_LIST8[np.argmax(x)], y_pred)) #получили список классов\n",
    "    \n",
    "    for n in range(len(y_pred)):\n",
    "        cls = y_pred[n]\n",
    "        id = test_id2[i+n]\n",
    "        st = f\"{id},{cls}\"\n",
    "        new_f = new_f +'\\n'+st\n",
    "        strok +=1\n",
    "\n",
    "\n",
    "\n",
    "\n",
    "test_out = NOMER_EXP+'_sample_solution.csv'  #сюда запишется резултат\n",
    "if os.path.exists(test_out):\n",
    "    os.remove(test_out)\n",
    "    \n",
    "with open(test_out, 'w', encoding = 'utf-8') as file:\n",
    "    file.write(new_f)\n",
    "print('готово', test_out) \n",
    "print('Записано строк ', strok)\n",
    "\n",
    "del x_data_02, new_f\n",
    "del model8, tokenizer2\n",
    "\n",
    "\n",
    "gc.collect()"
   ]
  },
  {
   "cell_type": "code",
   "execution_count": null,
   "id": "636d28fd",
   "metadata": {},
   "outputs": [],
   "source": []
  }
 ],
 "metadata": {
  "kernelspec": {
   "display_name": "Python 3 (ipykernel)",
   "language": "python",
   "name": "python3"
  },
  "language_info": {
   "codemirror_mode": {
    "name": "ipython",
    "version": 3
   },
   "file_extension": ".py",
   "mimetype": "text/x-python",
   "name": "python",
   "nbconvert_exporter": "python",
   "pygments_lexer": "ipython3",
   "version": "3.9.12"
  }
 },
 "nbformat": 4,
 "nbformat_minor": 5
}
